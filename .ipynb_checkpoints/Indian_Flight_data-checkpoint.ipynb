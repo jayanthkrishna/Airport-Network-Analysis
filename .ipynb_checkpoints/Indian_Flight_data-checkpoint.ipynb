{
 "cells": [
  {
   "cell_type": "code",
   "execution_count": 4,
   "metadata": {},
   "outputs": [],
   "source": [
    "import networkx as nx\n",
    "import collections\n",
    "import matplotlib.pyplot as plt\n",
    "from networkx.generators import random_graphs\n",
    "import pandas as pd\n",
    "import itertools\n",
    "from netwulf import visualize\n",
    "from webweb import Web\n",
    "import random"
   ]
  },
  {
   "cell_type": "code",
   "execution_count": 7,
   "metadata": {},
   "outputs": [],
   "source": [
    "def generate_random_graph(number_of_nodes,p,is_directed=False):\n",
    "    return random_graphs.fast_gnp_random_graph(number_of_nodes,p,directed=is_directed)"
   ]
  },
  {
   "cell_type": "code",
   "execution_count": 8,
   "metadata": {},
   "outputs": [],
   "source": [
    "def gen_random_graphs(nodes):\n",
    "    indegree={i:0 for i in range(nodes)}\n",
    "\n",
    "    outdegree={i:0 for i in range(nodes)}\n",
    "\n",
    "    cc={i:0 for i in range(nodes)}\n",
    "\n",
    "    avg_nei_deg={i:0 for i in range(nodes)}\n",
    "\n",
    "    knn={i:0 for i in range(nodes)}\n",
    "    \n",
    "    for i in range(50):\n",
    "        print(i)\n",
    "        temp=generate_random_graph(nodes,random.random(),is_directed=True)\n",
    "\n",
    "        temp1=dict(temp.in_degree())\n",
    "        for j in temp1:\n",
    "            indegree[j]+=temp1[j]\n",
    "\n",
    "        print(\"indegree\")\n",
    "        temp1=dict(temp.out_degree())\n",
    "        for j in temp1:\n",
    "            outdegree[j]+=temp1[j]\n",
    "\n",
    "        print(\"Outdegree\")\n",
    "        temp1=nx.clustering(temp)\n",
    "\n",
    "        for j in temp1:\n",
    "            cc[j]+=temp1[j]\n",
    "\n",
    "        print(\"CC\")\n",
    "        temp1=nx.average_neighbor_degree(temp)\n",
    "\n",
    "        for j in temp1:\n",
    "            avg_nei_deg[j]+=temp1[j]\n",
    "\n",
    "        print(\"Avg nd\")\n",
    "        temp1=nx.k_nearest_neighbors(temp)\n",
    "\n",
    "        for j in temp1:\n",
    "            knn[j]+=temp1[j]\n",
    "        print(\"KNN\")\n",
    "    return [indegree,outdegree,cc,avg_nei_deg,knn]"
   ]
  },
  {
   "cell_type": "code",
   "execution_count": null,
   "metadata": {},
   "outputs": [],
   "source": []
  },
  {
   "cell_type": "code",
   "execution_count": 9,
   "metadata": {},
   "outputs": [
    {
     "name": "stdout",
     "output_type": "stream",
     "text": [
      "0\n",
      "indegree\n",
      "Outdegree\n"
     ]
    },
    {
     "ename": "KeyboardInterrupt",
     "evalue": "",
     "output_type": "error",
     "traceback": [
      "\u001b[0;31m---------------------------------------------------------------------------\u001b[0m",
      "\u001b[0;31mKeyboardInterrupt\u001b[0m                         Traceback (most recent call last)",
      "\u001b[0;32m<ipython-input-9-baf6bbb7e7ee>\u001b[0m in \u001b[0;36m<module>\u001b[0;34m\u001b[0m\n\u001b[0;32m----> 1\u001b[0;31m \u001b[0md1\u001b[0m\u001b[0;34m=\u001b[0m\u001b[0mgen_random_graphs\u001b[0m\u001b[0;34m(\u001b[0m\u001b[0;36m1574\u001b[0m\u001b[0;34m)\u001b[0m\u001b[0;34m\u001b[0m\u001b[0m\n\u001b[0m",
      "\u001b[0;32m<ipython-input-8-ab8ca8966734>\u001b[0m in \u001b[0;36mgen_random_graphs\u001b[0;34m(nodes)\u001b[0m\n\u001b[1;32m     24\u001b[0m \u001b[0;34m\u001b[0m\u001b[0m\n\u001b[1;32m     25\u001b[0m         \u001b[0mprint\u001b[0m\u001b[0;34m(\u001b[0m\u001b[0;34m\"Outdegree\"\u001b[0m\u001b[0;34m)\u001b[0m\u001b[0;34m\u001b[0m\u001b[0m\n\u001b[0;32m---> 26\u001b[0;31m         \u001b[0mtemp1\u001b[0m\u001b[0;34m=\u001b[0m\u001b[0mnx\u001b[0m\u001b[0;34m.\u001b[0m\u001b[0mclustering\u001b[0m\u001b[0;34m(\u001b[0m\u001b[0mtemp\u001b[0m\u001b[0;34m)\u001b[0m\u001b[0;34m\u001b[0m\u001b[0m\n\u001b[0m\u001b[1;32m     27\u001b[0m \u001b[0;34m\u001b[0m\u001b[0m\n\u001b[1;32m     28\u001b[0m         \u001b[0;32mfor\u001b[0m \u001b[0mj\u001b[0m \u001b[0;32min\u001b[0m \u001b[0mtemp1\u001b[0m\u001b[0;34m:\u001b[0m\u001b[0;34m\u001b[0m\u001b[0m\n",
      "\u001b[0;32m~/.local/lib/python3.5/site-packages/networkx/algorithms/cluster.py\u001b[0m in \u001b[0;36mclustering\u001b[0;34m(G, nodes, weight)\u001b[0m\n\u001b[1;32m    354\u001b[0m             \u001b[0mtd_iter\u001b[0m \u001b[0;34m=\u001b[0m \u001b[0m_directed_triangles_and_degree_iter\u001b[0m\u001b[0;34m(\u001b[0m\u001b[0mG\u001b[0m\u001b[0;34m,\u001b[0m \u001b[0mnodes\u001b[0m\u001b[0;34m)\u001b[0m\u001b[0;34m\u001b[0m\u001b[0m\n\u001b[1;32m    355\u001b[0m             clusterc = {v: 0 if t == 0 else t / ((dt * (dt - 1) - 2 * db) * 2)\n\u001b[0;32m--> 356\u001b[0;31m                         for v, dt, db, t in td_iter}\n\u001b[0m\u001b[1;32m    357\u001b[0m     \u001b[0;32melse\u001b[0m\u001b[0;34m:\u001b[0m\u001b[0;34m\u001b[0m\u001b[0m\n\u001b[1;32m    358\u001b[0m         \u001b[0;32mif\u001b[0m \u001b[0mweight\u001b[0m \u001b[0;32mis\u001b[0m \u001b[0;32mnot\u001b[0m \u001b[0;32mNone\u001b[0m\u001b[0;34m:\u001b[0m\u001b[0;34m\u001b[0m\u001b[0m\n",
      "\u001b[0;32m~/.local/lib/python3.5/site-packages/networkx/algorithms/cluster.py\u001b[0m in \u001b[0;36m<dictcomp>\u001b[0;34m(.0)\u001b[0m\n\u001b[1;32m    353\u001b[0m         \u001b[0;32melse\u001b[0m\u001b[0;34m:\u001b[0m\u001b[0;34m\u001b[0m\u001b[0m\n\u001b[1;32m    354\u001b[0m             \u001b[0mtd_iter\u001b[0m \u001b[0;34m=\u001b[0m \u001b[0m_directed_triangles_and_degree_iter\u001b[0m\u001b[0;34m(\u001b[0m\u001b[0mG\u001b[0m\u001b[0;34m,\u001b[0m \u001b[0mnodes\u001b[0m\u001b[0;34m)\u001b[0m\u001b[0;34m\u001b[0m\u001b[0m\n\u001b[0;32m--> 355\u001b[0;31m             clusterc = {v: 0 if t == 0 else t / ((dt * (dt - 1) - 2 * db) * 2)\n\u001b[0m\u001b[1;32m    356\u001b[0m                         for v, dt, db, t in td_iter}\n\u001b[1;32m    357\u001b[0m     \u001b[0;32melse\u001b[0m\u001b[0;34m:\u001b[0m\u001b[0;34m\u001b[0m\u001b[0m\n",
      "\u001b[0;32m~/.local/lib/python3.5/site-packages/networkx/algorithms/cluster.py\u001b[0m in \u001b[0;36m_directed_triangles_and_degree_iter\u001b[0;34m(G, nodes)\u001b[0m\n\u001b[1;32m    147\u001b[0m                                              \u001b[0;34m(\u001b[0m\u001b[0mipreds\u001b[0m \u001b[0;34m&\u001b[0m \u001b[0mjsuccs\u001b[0m\u001b[0;34m)\u001b[0m\u001b[0;34m,\u001b[0m\u001b[0;34m\u001b[0m\u001b[0m\n\u001b[1;32m    148\u001b[0m                                              \u001b[0;34m(\u001b[0m\u001b[0misuccs\u001b[0m \u001b[0;34m&\u001b[0m \u001b[0mjpreds\u001b[0m\u001b[0;34m)\u001b[0m\u001b[0;34m,\u001b[0m\u001b[0;34m\u001b[0m\u001b[0m\n\u001b[0;32m--> 149\u001b[0;31m                                              (isuccs & jsuccs))))\n\u001b[0m\u001b[1;32m    150\u001b[0m         \u001b[0mdtotal\u001b[0m \u001b[0;34m=\u001b[0m \u001b[0mlen\u001b[0m\u001b[0;34m(\u001b[0m\u001b[0mipreds\u001b[0m\u001b[0;34m)\u001b[0m \u001b[0;34m+\u001b[0m \u001b[0mlen\u001b[0m\u001b[0;34m(\u001b[0m\u001b[0misuccs\u001b[0m\u001b[0;34m)\u001b[0m\u001b[0;34m\u001b[0m\u001b[0m\n\u001b[1;32m    151\u001b[0m         \u001b[0mdbidirectional\u001b[0m \u001b[0;34m=\u001b[0m \u001b[0mlen\u001b[0m\u001b[0;34m(\u001b[0m\u001b[0mipreds\u001b[0m \u001b[0;34m&\u001b[0m \u001b[0misuccs\u001b[0m\u001b[0;34m)\u001b[0m\u001b[0;34m\u001b[0m\u001b[0m\n",
      "\u001b[0;31mKeyboardInterrupt\u001b[0m: "
     ]
    }
   ],
   "source": [
    "d1=gen_random_graphs(1574)"
   ]
  },
  {
   "cell_type": "code",
   "execution_count": null,
   "metadata": {},
   "outputs": [],
   "source": [
    "d2=gen_random_graphs(90)"
   ]
  },
  {
   "cell_type": "code",
   "execution_count": null,
   "metadata": {},
   "outputs": [],
   "source": []
  }
 ],
 "metadata": {
  "kernelspec": {
   "display_name": "Python 3",
   "language": "python",
   "name": "python3"
  },
  "language_info": {
   "codemirror_mode": {
    "name": "ipython",
    "version": 3
   },
   "file_extension": ".py",
   "mimetype": "text/x-python",
   "name": "python",
   "nbconvert_exporter": "python",
   "pygments_lexer": "ipython3",
   "version": "3.5.2"
  }
 },
 "nbformat": 4,
 "nbformat_minor": 2
}
